{
  "cells": [
    {
      "cell_type": "markdown",
      "metadata": {
        "id": "YHK6DyunSbs4"
      },
      "source": [
        "# 전이학습 \n",
        "- 고양이 강아지 구분\n",
        "- VGG16 (2014)\n",
        " - 이미지넷으로 사전 훈련된 네트워크를 사용\n",
        " - 1000개의 객체를 구분하는 모델이나, 여기서는 고양이, 강아지 구분에 사용  \n",
        "\n",
        "- 1) 특성추출 방식\n",
        " - 합성곱 필터링 영역(convolutional base)를 그대로 사용\n",
        " - 공통되는 특성만 추출하여 사용한다\n",
        " - 전결합망 부분은 새로운 데이터 (고양이/강아지)로 학습을 다시 시킨다\n",
        "\n",
        "\n",
        "- 2) 미세 조정 방식\n"
      ]
    },
    {
      "cell_type": "markdown",
      "metadata": {
        "id": "UY6KJV6z6l7_"
      },
      "source": [
        "## 데이터 다운로드"
      ]
    },
    {
      "cell_type": "code",
      "execution_count": 1,
      "metadata": {
        "id": "BintRJjr1QvS"
      },
      "outputs": [
        {
          "ename": "ModuleNotFoundError",
          "evalue": "No module named 'tensorflow'",
          "output_type": "error",
          "traceback": [
            "\u001b[1;31m---------------------------------------------------------------------------\u001b[0m",
            "\u001b[1;31mModuleNotFoundError\u001b[0m                       Traceback (most recent call last)",
            "\u001b[1;32md:\\99.SWDevelopment\\DX_Edu\\he0712-main\\he0712-main\\c_16_TransferLearning.ipynb 셀 3\u001b[0m in \u001b[0;36m<cell line: 8>\u001b[1;34m()\u001b[0m\n\u001b[0;32m      <a href='vscode-notebook-cell:/d%3A/99.SWDevelopment/DX_Edu/he0712-main/he0712-main/c_16_TransferLearning.ipynb#ch0000002?line=5'>6</a>\u001b[0m \u001b[39mimport\u001b[39;00m \u001b[39mzipfile\u001b[39;00m\n\u001b[0;32m      <a href='vscode-notebook-cell:/d%3A/99.SWDevelopment/DX_Edu/he0712-main/he0712-main/c_16_TransferLearning.ipynb#ch0000002?line=6'>7</a>\u001b[0m \u001b[39mimport\u001b[39;00m \u001b[39mmatplotlib\u001b[39;00m\u001b[39m.\u001b[39;00m\u001b[39mimage\u001b[39;00m \u001b[39mas\u001b[39;00m \u001b[39mmpimg\u001b[39;00m\n\u001b[1;32m----> <a href='vscode-notebook-cell:/d%3A/99.SWDevelopment/DX_Edu/he0712-main/he0712-main/c_16_TransferLearning.ipynb#ch0000002?line=7'>8</a>\u001b[0m \u001b[39mimport\u001b[39;00m \u001b[39mtensorflow\u001b[39;00m \u001b[39mas\u001b[39;00m \u001b[39mtf\u001b[39;00m\n\u001b[0;32m      <a href='vscode-notebook-cell:/d%3A/99.SWDevelopment/DX_Edu/he0712-main/he0712-main/c_16_TransferLearning.ipynb#ch0000002?line=8'>9</a>\u001b[0m \u001b[39mfrom\u001b[39;00m \u001b[39mtensorflow\u001b[39;00m\u001b[39m.\u001b[39;00m\u001b[39mkeras\u001b[39;00m\u001b[39m.\u001b[39;00m\u001b[39mapplications\u001b[39;00m\u001b[39m.\u001b[39;00m\u001b[39mvgg16\u001b[39;00m \u001b[39mimport\u001b[39;00m VGG16\n",
            "\u001b[1;31mModuleNotFoundError\u001b[0m: No module named 'tensorflow'"
          ]
        }
      ],
      "source": [
        "import matplotlib.pyplot as plt\n",
        "%matplotlib inline\n",
        "%config InlineBackend.figure_format = 'retina'\n",
        "\n",
        "import os, os.path, shutil\n",
        "import zipfile\n",
        "import matplotlib.image as mpimg\n",
        "import tensorflow as tf\n",
        "from tensorflow.keras.applications.vgg16 import VGG16"
      ]
    },
    {
      "cell_type": "markdown",
      "metadata": {
        "id": "mxOElr1tG82n"
      },
      "source": [
        "## VGG16으로 사전학습된 가중치 가져오기\n",
        "- include_top은 기존의 1000개 전결합망 분류기를 포함할지를 선택"
      ]
    },
    {
      "cell_type": "code",
      "execution_count": 11,
      "metadata": {
        "colab": {
          "base_uri": "https://localhost:8080/"
        },
        "id": "39bxJu-BGL9N",
        "outputId": "d9522961-43a1-482f-f307-54715e139fc6"
      },
      "outputs": [
        {
          "name": "stdout",
          "output_type": "stream",
          "text": [
            "Downloading data from https://storage.googleapis.com/tensorflow/keras-applications/vgg16/vgg16_weights_tf_dim_ordering_tf_kernels_notop.h5\n",
            "58892288/58889256 [==============================] - 0s 0us/step\n",
            "58900480/58889256 [==============================] - 0s 0us/step\n"
          ]
        }
      ],
      "source": [
        "conv_base = VGG16(weights = 'imagenet',\n",
        "                 include_top=False,\n",
        "                 input_shape=(150, 150, 3))"
      ]
    },
    {
      "cell_type": "code",
      "execution_count": 12,
      "metadata": {
        "colab": {
          "base_uri": "https://localhost:8080/"
        },
        "id": "84MocF__GLuw",
        "outputId": "792d8cfe-1d25-4615-a8e5-93b7103b730a"
      },
      "outputs": [
        {
          "name": "stdout",
          "output_type": "stream",
          "text": [
            "Model: \"vgg16\"\n",
            "_________________________________________________________________\n",
            " Layer (type)                Output Shape              Param #   \n",
            "=================================================================\n",
            " input_1 (InputLayer)        [(None, 150, 150, 3)]     0         \n",
            "                                                                 \n",
            " block1_conv1 (Conv2D)       (None, 150, 150, 64)      1792      \n",
            "                                                                 \n",
            " block1_conv2 (Conv2D)       (None, 150, 150, 64)      36928     \n",
            "                                                                 \n",
            " block1_pool (MaxPooling2D)  (None, 75, 75, 64)        0         \n",
            "                                                                 \n",
            " block2_conv1 (Conv2D)       (None, 75, 75, 128)       73856     \n",
            "                                                                 \n",
            " block2_conv2 (Conv2D)       (None, 75, 75, 128)       147584    \n",
            "                                                                 \n",
            " block2_pool (MaxPooling2D)  (None, 37, 37, 128)       0         \n",
            "                                                                 \n",
            " block3_conv1 (Conv2D)       (None, 37, 37, 256)       295168    \n",
            "                                                                 \n",
            " block3_conv2 (Conv2D)       (None, 37, 37, 256)       590080    \n",
            "                                                                 \n",
            " block3_conv3 (Conv2D)       (None, 37, 37, 256)       590080    \n",
            "                                                                 \n",
            " block3_pool (MaxPooling2D)  (None, 18, 18, 256)       0         \n",
            "                                                                 \n",
            " block4_conv1 (Conv2D)       (None, 18, 18, 512)       1180160   \n",
            "                                                                 \n",
            " block4_conv2 (Conv2D)       (None, 18, 18, 512)       2359808   \n",
            "                                                                 \n",
            " block4_conv3 (Conv2D)       (None, 18, 18, 512)       2359808   \n",
            "                                                                 \n",
            " block4_pool (MaxPooling2D)  (None, 9, 9, 512)         0         \n",
            "                                                                 \n",
            " block5_conv1 (Conv2D)       (None, 9, 9, 512)         2359808   \n",
            "                                                                 \n",
            " block5_conv2 (Conv2D)       (None, 9, 9, 512)         2359808   \n",
            "                                                                 \n",
            " block5_conv3 (Conv2D)       (None, 9, 9, 512)         2359808   \n",
            "                                                                 \n",
            " block5_pool (MaxPooling2D)  (None, 4, 4, 512)         0         \n",
            "                                                                 \n",
            "=================================================================\n",
            "Total params: 14,714,688\n",
            "Trainable params: 14,714,688\n",
            "Non-trainable params: 0\n",
            "_________________________________________________________________\n"
          ]
        }
      ],
      "source": [
        "conv_base.summary()"
      ]
    },
    {
      "cell_type": "markdown",
      "metadata": {
        "id": "wLStHmXaMqja"
      },
      "source": [
        "## 두가지 옵션이 가능하다\n",
        "### 1) 합성곱 기반을 통과한 출력을 저장한 후 이를 전결합망에 통과\n",
        "- 데이터 확장은 사용할 수 없다\n",
        "- 실행이 빠르다\n",
        "\n",
        "### 2) 모델에 Dense망을 추가하고 학습을 수행\n",
        "- 데이터 확장을 사용할 수 있다.\n",
        "- 비용이 많이 든다\n",
        "\n",
        "\n",
        "### 1) 방식을 먼저 수행한다.\n"
      ]
    },
    {
      "cell_type": "markdown",
      "metadata": {
        "id": "kkMqucDvN0Qy"
      },
      "source": [
        "### 데이터 읽기"
      ]
    },
    {
      "cell_type": "code",
      "execution_count": 13,
      "metadata": {
        "colab": {
          "base_uri": "https://localhost:8080/"
        },
        "id": "JHHE2t4yxpMU",
        "outputId": "e6c1ba33-275f-4e3e-cd6d-8f89a724568e"
      },
      "outputs": [
        {
          "name": "stdout",
          "output_type": "stream",
          "text": [
            "  % Total    % Received % Xferd  Average Speed   Time    Time     Time  Current\n",
            "                                 Dload  Upload   Total   Spent    Left  Speed\n",
            "100 65.4M  100 65.4M    0     0   188M      0 --:--:-- --:--:-- --:--:--  188M\n"
          ]
        }
      ],
      "source": [
        "!curl -L \\\n",
        "    https://storage.googleapis.com/mledu-datasets/cats_and_dogs_filtered.zip \\\n",
        "    -o ./cats_and_dogs_filtered.zip"
      ]
    },
    {
      "cell_type": "code",
      "execution_count": 14,
      "metadata": {
        "id": "PLy3pthUS0D2"
      },
      "outputs": [],
      "source": [
        "!unzip -q cats_and_dogs_filtered.zip"
      ]
    },
    {
      "cell_type": "code",
      "execution_count": 15,
      "metadata": {
        "id": "MLZKVtE0dSfk"
      },
      "outputs": [],
      "source": [
        "base_dir = './cats_and_dogs_filtered'\n",
        "train_dir = os.path.join(base_dir, 'train')\n",
        "validation_dir = os.path.join(base_dir, 'validation')"
      ]
    },
    {
      "cell_type": "code",
      "execution_count": 16,
      "metadata": {
        "colab": {
          "base_uri": "https://localhost:8080/",
          "height": 36
        },
        "id": "I-gqmVtXI1If",
        "outputId": "cef0c0f3-74be-4770-c2c6-420af2c49ec3"
      },
      "outputs": [
        {
          "data": {
            "application/vnd.google.colaboratory.intrinsic+json": {
              "type": "string"
            },
            "text/plain": [
              "'./cats_and_dogs_filtered/train'"
            ]
          },
          "execution_count": 16,
          "metadata": {},
          "output_type": "execute_result"
        }
      ],
      "source": [
        "train_dir"
      ]
    },
    {
      "cell_type": "markdown",
      "metadata": {
        "id": "5oqBkNBJmtUv"
      },
      "source": [
        "## 특성추출만 사용한 모델 (데이터 증식은 사용하지 않는 방식)\n",
        "- ImageDataGenerator를 사용하여 이미지와 레이블을 생성\n",
        "- conv_base 모델의 predict를 사용하여 이미지의 특성을 추출\n",
        "- 마지막 출력의 크기가 (4, 4, 512)이다.\n"
      ]
    },
    {
      "cell_type": "code",
      "execution_count": 21,
      "metadata": {
        "id": "IYVLSfbsbf9K"
      },
      "outputs": [],
      "source": [
        "from keras import layers\n",
        "from keras import models\n",
        "from keras.preprocessing import image\n",
        "from keras.preprocessing.image import ImageDataGenerator\n",
        "import numpy as np \n",
        "from tensorflow.keras import optimizers\n"
      ]
    },
    {
      "cell_type": "code",
      "execution_count": 18,
      "metadata": {
        "colab": {
          "base_uri": "https://localhost:8080/"
        },
        "id": "zKpFv6lSGmtR",
        "outputId": "d6e719e0-f72d-4e5d-9557-208aa9db65e1"
      },
      "outputs": [
        {
          "name": "stdout",
          "output_type": "stream",
          "text": [
            "Found 2000 images belonging to 2 classes.\n",
            "Found 1000 images belonging to 2 classes.\n",
            "Model: \"sequential\"\n",
            "_________________________________________________________________\n",
            " Layer (type)                Output Shape              Param #   \n",
            "=================================================================\n",
            " dense (Dense)               (None, 512)               4194816   \n",
            "                                                                 \n",
            " dropout (Dropout)           (None, 512)               0         \n",
            "                                                                 \n",
            " dense_1 (Dense)             (None, 1)                 513       \n",
            "                                                                 \n",
            "=================================================================\n",
            "Total params: 4,195,329\n",
            "Trainable params: 4,195,329\n",
            "Non-trainable params: 0\n",
            "_________________________________________________________________\n"
          ]
        }
      ],
      "source": [
        "img_width = 150\n",
        "img_height = 150\n",
        "batch_size=20\n",
        "\n",
        "datagen = ImageDataGenerator(rescale = 1./255)\n",
        "\n",
        "def extract_features(directory, sample_count):\n",
        "  features = np.zeros(shape=(sample_count, 4, 4, 512))\n",
        "  labels = np.zeros(shape=(sample_count))\n",
        "  generator = datagen.flow_from_directory(\n",
        "      directory,\n",
        " \t    target_size=(img_width,img_height),\n",
        "      class_mode='binary',\n",
        "\t\t\tbatch_size=batch_size)\n",
        "  i=1\n",
        "  for inputs_batch, labels_batch in generator:\n",
        "    features_batch = conv_base.predict(inputs_batch)\n",
        "    features[i*batch_size:(i+1)*batch_size] = features_batch\n",
        "    labels[i*batch_size:(i+1)*batch_size] = labels_batch\n",
        "    i += 1\n",
        "    if i* batch_size >= sample_count:\n",
        "      break\n",
        "  return features, labels\n",
        "\n",
        "train_features, train_labels = extract_features(train_dir, 2000)\n",
        "validation_features, validation_labels = extract_features(validation_dir, 1000)\n",
        "\n",
        "train_features = np.reshape(train_features, (2000, 4*4*512))\n",
        "validation_features = np.reshape(validation_features, (1000, 4*4*512))\n",
        "\n",
        "    \n",
        "model = models.Sequential()\n",
        "\n",
        "model.add(layers.Dense(512, activation='relu', input_dim= 4*4*512))\n",
        "model.add(layers.Dropout(0.5))\n",
        "model.add(layers.Dense(1, activation='sigmoid'))\n",
        "\n",
        "model.summary()"
      ]
    },
    {
      "cell_type": "code",
      "execution_count": 22,
      "metadata": {
        "colab": {
          "base_uri": "https://localhost:8080/"
        },
        "id": "hxITBhxQDwkd",
        "outputId": "ba105fa2-d799-46aa-a5e9-85f559b4f38d"
      },
      "outputs": [
        {
          "name": "stdout",
          "output_type": "stream",
          "text": [
            "Epoch 1/30\n"
          ]
        },
        {
          "name": "stderr",
          "output_type": "stream",
          "text": [
            "/usr/local/lib/python3.7/dist-packages/keras/optimizer_v2/rmsprop.py:130: UserWarning: The `lr` argument is deprecated, use `learning_rate` instead.\n",
            "  super(RMSprop, self).__init__(name, **kwargs)\n"
          ]
        },
        {
          "name": "stdout",
          "output_type": "stream",
          "text": [
            "100/100 [==============================] - 2s 7ms/step - loss: 0.5607 - accuracy: 0.7145 - val_loss: 0.4101 - val_accuracy: 0.8430\n",
            "Epoch 2/30\n",
            "100/100 [==============================] - 0s 5ms/step - loss: 0.3892 - accuracy: 0.8385 - val_loss: 0.3375 - val_accuracy: 0.8740\n",
            "Epoch 3/30\n",
            "100/100 [==============================] - 0s 5ms/step - loss: 0.3334 - accuracy: 0.8565 - val_loss: 0.3090 - val_accuracy: 0.8820\n",
            "Epoch 4/30\n",
            "100/100 [==============================] - 1s 5ms/step - loss: 0.2840 - accuracy: 0.8950 - val_loss: 0.3117 - val_accuracy: 0.8710\n",
            "Epoch 5/30\n",
            "100/100 [==============================] - 0s 5ms/step - loss: 0.2531 - accuracy: 0.9030 - val_loss: 0.3000 - val_accuracy: 0.8660\n",
            "Epoch 6/30\n",
            "100/100 [==============================] - 0s 5ms/step - loss: 0.2365 - accuracy: 0.9105 - val_loss: 0.2791 - val_accuracy: 0.8870\n",
            "Epoch 7/30\n",
            "100/100 [==============================] - 0s 5ms/step - loss: 0.2208 - accuracy: 0.9210 - val_loss: 0.2767 - val_accuracy: 0.8870\n",
            "Epoch 8/30\n",
            "100/100 [==============================] - 1s 5ms/step - loss: 0.2062 - accuracy: 0.9245 - val_loss: 0.2673 - val_accuracy: 0.8870\n",
            "Epoch 9/30\n",
            "100/100 [==============================] - 1s 6ms/step - loss: 0.1925 - accuracy: 0.9315 - val_loss: 0.2729 - val_accuracy: 0.8860\n",
            "Epoch 10/30\n",
            "100/100 [==============================] - 0s 5ms/step - loss: 0.1838 - accuracy: 0.9390 - val_loss: 0.2663 - val_accuracy: 0.8880\n",
            "Epoch 11/30\n",
            "100/100 [==============================] - 1s 5ms/step - loss: 0.1730 - accuracy: 0.9380 - val_loss: 0.2625 - val_accuracy: 0.8880\n",
            "Epoch 12/30\n",
            "100/100 [==============================] - 0s 5ms/step - loss: 0.1624 - accuracy: 0.9475 - val_loss: 0.2695 - val_accuracy: 0.8900\n",
            "Epoch 13/30\n",
            "100/100 [==============================] - 0s 5ms/step - loss: 0.1513 - accuracy: 0.9505 - val_loss: 0.2671 - val_accuracy: 0.8920\n",
            "Epoch 14/30\n",
            "100/100 [==============================] - 0s 5ms/step - loss: 0.1451 - accuracy: 0.9500 - val_loss: 0.2626 - val_accuracy: 0.8890\n",
            "Epoch 15/30\n",
            "100/100 [==============================] - 1s 5ms/step - loss: 0.1411 - accuracy: 0.9535 - val_loss: 0.2609 - val_accuracy: 0.8890\n",
            "Epoch 16/30\n",
            "100/100 [==============================] - 1s 5ms/step - loss: 0.1246 - accuracy: 0.9605 - val_loss: 0.2587 - val_accuracy: 0.8910\n",
            "Epoch 17/30\n",
            "100/100 [==============================] - 1s 5ms/step - loss: 0.1185 - accuracy: 0.9670 - val_loss: 0.2619 - val_accuracy: 0.8870\n",
            "Epoch 18/30\n",
            "100/100 [==============================] - 1s 5ms/step - loss: 0.1154 - accuracy: 0.9670 - val_loss: 0.2717 - val_accuracy: 0.8910\n",
            "Epoch 19/30\n",
            "100/100 [==============================] - 0s 5ms/step - loss: 0.1098 - accuracy: 0.9630 - val_loss: 0.2592 - val_accuracy: 0.8930\n",
            "Epoch 20/30\n",
            "100/100 [==============================] - 1s 5ms/step - loss: 0.1053 - accuracy: 0.9700 - val_loss: 0.2692 - val_accuracy: 0.8970\n",
            "Epoch 21/30\n",
            "100/100 [==============================] - 0s 5ms/step - loss: 0.0976 - accuracy: 0.9755 - val_loss: 0.2609 - val_accuracy: 0.8930\n",
            "Epoch 22/30\n",
            "100/100 [==============================] - 0s 5ms/step - loss: 0.0953 - accuracy: 0.9735 - val_loss: 0.2618 - val_accuracy: 0.8900\n",
            "Epoch 23/30\n",
            "100/100 [==============================] - 1s 5ms/step - loss: 0.0919 - accuracy: 0.9735 - val_loss: 0.2637 - val_accuracy: 0.8900\n",
            "Epoch 24/30\n",
            "100/100 [==============================] - 1s 6ms/step - loss: 0.0818 - accuracy: 0.9790 - val_loss: 0.2698 - val_accuracy: 0.8910\n",
            "Epoch 25/30\n",
            "100/100 [==============================] - 1s 5ms/step - loss: 0.0826 - accuracy: 0.9760 - val_loss: 0.2724 - val_accuracy: 0.8910\n",
            "Epoch 26/30\n",
            "100/100 [==============================] - 1s 5ms/step - loss: 0.0791 - accuracy: 0.9785 - val_loss: 0.2664 - val_accuracy: 0.8940\n",
            "Epoch 27/30\n",
            "100/100 [==============================] - 0s 5ms/step - loss: 0.0770 - accuracy: 0.9770 - val_loss: 0.2681 - val_accuracy: 0.8930\n",
            "Epoch 28/30\n",
            "100/100 [==============================] - 1s 5ms/step - loss: 0.0706 - accuracy: 0.9840 - val_loss: 0.2678 - val_accuracy: 0.8920\n",
            "Epoch 29/30\n",
            "100/100 [==============================] - 1s 5ms/step - loss: 0.0659 - accuracy: 0.9845 - val_loss: 0.2743 - val_accuracy: 0.8960\n",
            "Epoch 30/30\n",
            "100/100 [==============================] - 0s 5ms/step - loss: 0.0684 - accuracy: 0.9845 - val_loss: 0.2709 - val_accuracy: 0.8970\n"
          ]
        }
      ],
      "source": [
        "model.compile(loss='binary_crossentropy',\n",
        "              optimizer=optimizers.RMSprop(lr=2e-5),\n",
        "              metrics=['accuracy'])\n",
        "history = model.fit(\n",
        "    train_features, train_labels,\n",
        "    epochs=30,\n",
        "    validation_data= (validation_features, validation_labels),\n",
        "    batch_size=batch_size)"
      ]
    },
    {
      "cell_type": "markdown",
      "metadata": {
        "id": "Q5Vulban4ZrD"
      },
      "source": [
        "## 성능 확인"
      ]
    },
    {
      "cell_type": "code",
      "execution_count": 23,
      "metadata": {
        "colab": {
          "base_uri": "https://localhost:8080/",
          "height": 294
        },
        "id": "0oj0gTIy4k60",
        "outputId": "7a5fcd2d-b2d5-457b-efbb-4eb0f9783394"
      },
      "outputs": [
        {
          "data": {
            "image/png": "[encoded data removed]",
            "text/plain": [
              "<Figure size 432x288 with 1 Axes>"
            ]
          },
          "metadata": {
            "image/png": {
              "height": 277,
              "width": 387
            },
            "needs_background": "light"
          },
          "output_type": "display_data"
        }
      ],
      "source": [
        "def show_4_graphs(history):\n",
        "    plt.figure(figsize=(6, 4))\n",
        "    plt.plot(history.history['accuracy'], 'r', label='Accuracy of training data')\n",
        "    plt.plot(history.history['val_accuracy'], 'b', label='Accuracy of validation data')\n",
        "    plt.plot(history.history['loss'], 'r--', label='Loss of training data')\n",
        "    plt.plot(history.history['val_loss'], 'b--', label='Loss of validation data')\n",
        "    plt.title('Model Accuracy and Loss')\n",
        "    plt.ylabel('Accuracy and Loss')\n",
        "    plt.xlabel('Training Epoch')\n",
        "    plt.ylim(0)\n",
        "    plt.legend()\n",
        "    plt.show()\n",
        "  \n",
        "show_4_graphs(history)"
      ]
    },
    {
      "cell_type": "markdown",
      "metadata": {
        "id": "DgmSjUST4qoS"
      },
      "source": [
        "### 과대적합이 발생한 것을 알 수 있다.\n",
        "- 훈련 데이터가 부족하다\n",
        "- 데이터 확장을 사용하여 개선할 수 있다."
      ]
    },
    {
      "cell_type": "markdown",
      "metadata": {
        "id": "zY8xC3RKIMjf"
      },
      "source": [
        "### 2) 모델에 Dense망을 추가하고 학습을 수행\n",
        "- 데이터 확장을 사용할 수 있다.\n",
        "- 비용이 많이 든다\n",
        "- 엔드-투-엔드로 실행한다"
      ]
    },
    {
      "cell_type": "code",
      "execution_count": 24,
      "metadata": {
        "colab": {
          "base_uri": "https://localhost:8080/"
        },
        "id": "dEPZtbjoYyko",
        "outputId": "35f35cfa-b4d9-433b-a086-07eebe361a1e"
      },
      "outputs": [
        {
          "name": "stdout",
          "output_type": "stream",
          "text": [
            "Model: \"sequential_1\"\n",
            "_________________________________________________________________\n",
            " Layer (type)                Output Shape              Param #   \n",
            "=================================================================\n",
            " vgg16 (Functional)          (None, 4, 4, 512)         14714688  \n",
            "                                                                 \n",
            " flatten (Flatten)           (None, 8192)              0         \n",
            "                                                                 \n",
            " dense_2 (Dense)             (None, 256)               2097408   \n",
            "                                                                 \n",
            " dense_3 (Dense)             (None, 1)                 257       \n",
            "                                                                 \n",
            "=================================================================\n",
            "Total params: 16,812,353\n",
            "Trainable params: 16,812,353\n",
            "Non-trainable params: 0\n",
            "_________________________________________________________________\n"
          ]
        }
      ],
      "source": [
        "# 모델\n",
        "\n",
        "model = models.Sequential()\n",
        "model.add(conv_base)\n",
        "\n",
        "model.add(layers.Flatten())\n",
        "model.add(layers.Dense(256, activation='relu'))\n",
        "model.add(layers.Dense(1, activation='sigmoid'))\n",
        "\n",
        "model.summary()"
      ]
    },
    {
      "cell_type": "markdown",
      "metadata": {
        "id": "cRwp7DKRZNey"
      },
      "source": [
        "## 학습을 동결하지 않으면 모두 재 학습된다!"
      ]
    },
    {
      "cell_type": "code",
      "execution_count": 25,
      "metadata": {
        "id": "1I-bJVROjbEi"
      },
      "outputs": [],
      "source": [
        "conv_base.trainable = False"
      ]
    },
    {
      "cell_type": "code",
      "execution_count": 26,
      "metadata": {
        "colab": {
          "base_uri": "https://localhost:8080/"
        },
        "id": "MN5_TfDJjisU",
        "outputId": "d69d4ee1-50a6-4965-9bd4-022cc9908e30"
      },
      "outputs": [
        {
          "name": "stdout",
          "output_type": "stream",
          "text": [
            "4\n"
          ]
        }
      ],
      "source": [
        "print(len(model.trainable_weights))"
      ]
    },
    {
      "cell_type": "code",
      "execution_count": 27,
      "metadata": {
        "colab": {
          "base_uri": "https://localhost:8080/"
        },
        "id": "OUz97nA0jr_y",
        "outputId": "8735ff4e-9449-41cf-aa15-16e382ad57df"
      },
      "outputs": [
        {
          "name": "stdout",
          "output_type": "stream",
          "text": [
            "Model: \"sequential_1\"\n",
            "_________________________________________________________________\n",
            " Layer (type)                Output Shape              Param #   \n",
            "=================================================================\n",
            " vgg16 (Functional)          (None, 4, 4, 512)         14714688  \n",
            "                                                                 \n",
            " flatten (Flatten)           (None, 8192)              0         \n",
            "                                                                 \n",
            " dense_2 (Dense)             (None, 256)               2097408   \n",
            "                                                                 \n",
            " dense_3 (Dense)             (None, 1)                 257       \n",
            "                                                                 \n",
            "=================================================================\n",
            "Total params: 16,812,353\n",
            "Trainable params: 2,097,665\n",
            "Non-trainable params: 14,714,688\n",
            "_________________________________________________________________\n"
          ]
        }
      ],
      "source": [
        "model.summary()"
      ]
    },
    {
      "cell_type": "markdown",
      "metadata": {
        "id": "E68OZRcKkQoU"
      },
      "source": [
        "### 컴파일을 수행해야 변경사항이 적용된다"
      ]
    },
    {
      "cell_type": "code",
      "execution_count": 28,
      "metadata": {
        "colab": {
          "base_uri": "https://localhost:8080/"
        },
        "id": "uG0pDWWMHKkk",
        "outputId": "045205b8-e3d1-4039-ffac-5513abe02122"
      },
      "outputs": [
        {
          "name": "stdout",
          "output_type": "stream",
          "text": [
            "Found 2000 images belonging to 2 classes.\n",
            "Found 1000 images belonging to 2 classes.\n"
          ]
        }
      ],
      "source": [
        "train_datagen = ImageDataGenerator(\n",
        "  rescale= 1./255,\n",
        "  rotation_range = 40,\n",
        "  width_shift_range = 0.2,\n",
        "  height_shift_range = 0.2,\n",
        "  shear_range=0.2,\n",
        "  zoom_range=0.2,\n",
        "  horizontal_flip = True,\n",
        "  fill_mode='nearest')\n",
        "\n",
        "validation_datagen = ImageDataGenerator(rescale = 1./255)\n",
        "\n",
        "train_generator = train_datagen.flow_from_directory(directory=train_dir,\n",
        "\t\t\t\t\t\t\t\t\t\t\t   target_size=(img_width,img_height),\n",
        "\t\t\t\t\t\t\t\t\t\t\t   class_mode='binary',\n",
        "\t\t\t\t\t\t\t\t\t\t\t   batch_size=20)\n",
        "\n",
        "validation_generator = validation_datagen.flow_from_directory(directory=validation_dir,\n",
        "\t\t\t\t\t\t\t\t\t\t\t   target_size=(img_width,img_height),\n",
        "\t\t\t\t\t\t\t\t\t\t\t   class_mode='binary',\n",
        "\t\t\t\t\t\t\t\t\t\t\t   batch_size=20)\n",
        "\n",
        "\n"
      ]
    },
    {
      "cell_type": "markdown",
      "metadata": {
        "id": "PNj36PXplaCx"
      },
      "source": [
        "### 과대적합이 줄어든 것을 볼 수 있다."
      ]
    },
    {
      "cell_type": "code",
      "execution_count": 32,
      "metadata": {
        "colab": {
          "base_uri": "https://localhost:8080/"
        },
        "id": "Cpgy1ZUjHKhU",
        "outputId": "cda4d03b-e729-4f67-c86a-efd267c463b8"
      },
      "outputs": [
        {
          "name": "stdout",
          "output_type": "stream",
          "text": [
            "Epoch 1/30\n"
          ]
        },
        {
          "name": "stderr",
          "output_type": "stream",
          "text": [
            "/usr/local/lib/python3.7/dist-packages/keras/optimizer_v2/rmsprop.py:130: UserWarning: The `lr` argument is deprecated, use `learning_rate` instead.\n",
            "  super(RMSprop, self).__init__(name, **kwargs)\n",
            "/usr/local/lib/python3.7/dist-packages/ipykernel_launcher.py:13: UserWarning: `Model.fit_generator` is deprecated and will be removed in a future version. Please use `Model.fit`, which supports generators.\n",
            "  del sys.path[0]\n"
          ]
        },
        {
          "name": "stdout",
          "output_type": "stream",
          "text": [
            "100/100 [==============================] - 20s 192ms/step - loss: 0.3144 - accuracy: 0.8670 - val_loss: 0.2641 - val_accuracy: 0.8830\n",
            "Epoch 2/30\n",
            "100/100 [==============================] - 19s 191ms/step - loss: 0.3068 - accuracy: 0.8640 - val_loss: 0.2653 - val_accuracy: 0.8820\n",
            "Epoch 3/30\n",
            "100/100 [==============================] - 19s 191ms/step - loss: 0.3278 - accuracy: 0.8555 - val_loss: 0.2687 - val_accuracy: 0.8800\n",
            "Epoch 4/30\n",
            "100/100 [==============================] - 19s 189ms/step - loss: 0.3163 - accuracy: 0.8570 - val_loss: 0.2635 - val_accuracy: 0.8810\n"
          ]
        }
      ],
      "source": [
        "model.compile(loss='binary_crossentropy',\n",
        "              optimizer=optimizers.RMSprop(lr=2e-5),\n",
        "              metrics=['accuracy'])\n",
        "\n",
        "callbacks_list = [tensorflow.keras.callbacks.EarlyStopping(monitor='val_accuracy', patience=3)]\n",
        "\n",
        "history = model.fit_generator(\n",
        "    generator=train_generator, \n",
        "    steps_per_epoch=100,\n",
        "    epochs=30,\n",
        "    callbacks=callbacks_list,\n",
        "    validation_data=validation_generator,\n",
        "    validation_steps=50)"
      ]
    },
    {
      "cell_type": "code",
      "execution_count": 33,
      "metadata": {
        "colab": {
          "base_uri": "https://localhost:8080/",
          "height": 294
        },
        "id": "5d1NMELUHKd-",
        "outputId": "3aaa5a3b-bd57-41ac-d177-c71ce6fa5aa5"
      },
      "outputs": [
        {
          "data": {
            "image/png": "[encoded data removed]",
            "text/plain": [
              "<Figure size 432x288 with 1 Axes>"
            ]
          },
          "metadata": {
            "image/png": {
              "height": 277,
              "width": 385
            },
            "needs_background": "light"
          },
          "output_type": "display_data"
        }
      ],
      "source": [
        "show_4_graphs(history)"
      ]
    },
    {
      "cell_type": "markdown",
      "metadata": {
        "id": "0qC0I1Xglvbp"
      },
      "source": [
        "## 미세조정 방법\n",
        "- 상위 계층 몇개를 재학습시킨다\n",
        "- 앞에서 소개한 절차, 즉, 전결합망(top)부분을 먼저 학습시킨 후에 상위계층의 미세조정을 해야 한다 (한번에 학습하면 안되고 두 단계로 나누어야 함)\n",
        "\n",
        "         "
      ]
    },
    {
      "cell_type": "code",
      "execution_count": 34,
      "metadata": {
        "colab": {
          "base_uri": "https://localhost:8080/"
        },
        "id": "t5XAI5qT2M8W",
        "outputId": "63494f63-ce56-4087-d60f-7cb9e48ec20b"
      },
      "outputs": [
        {
          "name": "stdout",
          "output_type": "stream",
          "text": [
            "Model: \"vgg16\"\n",
            "_________________________________________________________________\n",
            " Layer (type)                Output Shape              Param #   \n",
            "=================================================================\n",
            " input_1 (InputLayer)        [(None, 150, 150, 3)]     0         \n",
            "                                                                 \n",
            " block1_conv1 (Conv2D)       (None, 150, 150, 64)      1792      \n",
            "                                                                 \n",
            " block1_conv2 (Conv2D)       (None, 150, 150, 64)      36928     \n",
            "                                                                 \n",
            " block1_pool (MaxPooling2D)  (None, 75, 75, 64)        0         \n",
            "                                                                 \n",
            " block2_conv1 (Conv2D)       (None, 75, 75, 128)       73856     \n",
            "                                                                 \n",
            " block2_conv2 (Conv2D)       (None, 75, 75, 128)       147584    \n",
            "                                                                 \n",
            " block2_pool (MaxPooling2D)  (None, 37, 37, 128)       0         \n",
            "                                                                 \n",
            " block3_conv1 (Conv2D)       (None, 37, 37, 256)       295168    \n",
            "                                                                 \n",
            " block3_conv2 (Conv2D)       (None, 37, 37, 256)       590080    \n",
            "                                                                 \n",
            " block3_conv3 (Conv2D)       (None, 37, 37, 256)       590080    \n",
            "                                                                 \n",
            " block3_pool (MaxPooling2D)  (None, 18, 18, 256)       0         \n",
            "                                                                 \n",
            " block4_conv1 (Conv2D)       (None, 18, 18, 512)       1180160   \n",
            "                                                                 \n",
            " block4_conv2 (Conv2D)       (None, 18, 18, 512)       2359808   \n",
            "                                                                 \n",
            " block4_conv3 (Conv2D)       (None, 18, 18, 512)       2359808   \n",
            "                                                                 \n",
            " block4_pool (MaxPooling2D)  (None, 9, 9, 512)         0         \n",
            "                                                                 \n",
            " block5_conv1 (Conv2D)       (None, 9, 9, 512)         2359808   \n",
            "                                                                 \n",
            " block5_conv2 (Conv2D)       (None, 9, 9, 512)         2359808   \n",
            "                                                                 \n",
            " block5_conv3 (Conv2D)       (None, 9, 9, 512)         2359808   \n",
            "                                                                 \n",
            " block5_pool (MaxPooling2D)  (None, 4, 4, 512)         0         \n",
            "                                                                 \n",
            "=================================================================\n",
            "Total params: 14,714,688\n",
            "Trainable params: 0\n",
            "Non-trainable params: 14,714,688\n",
            "_________________________________________________________________\n"
          ]
        }
      ],
      "source": [
        "conv_base.summary()"
      ]
    },
    {
      "cell_type": "markdown",
      "metadata": {
        "id": "RAUd8YyW2blO"
      },
      "source": [
        "### 위에서 block 5 부분만 미세조정 하겠다"
      ]
    },
    {
      "cell_type": "code",
      "execution_count": 35,
      "metadata": {
        "id": "pEVEbvcW2TBl"
      },
      "outputs": [],
      "source": [
        "conv_base.trainable = True\n",
        "\n",
        "set_trainable = False\n",
        "for layer in conv_base.layers:\n",
        "  if layer.name == 'block5_conv1':\n",
        "    set_trainable = True\n",
        "  if set_trainable:\n",
        "    layer.trainable = True\n",
        "  else:\n",
        "    layer.trainable = False"
      ]
    },
    {
      "cell_type": "markdown",
      "metadata": {
        "id": "7uCc31nj3lJq"
      },
      "source": [
        "### 학습률을 작게 조정한다 (천천히 학습하도록)"
      ]
    },
    {
      "cell_type": "code",
      "execution_count": 36,
      "metadata": {
        "colab": {
          "base_uri": "https://localhost:8080/"
        },
        "id": "oEZvEBLt3fZl",
        "outputId": "1902a2dd-18ff-4e7d-aec4-ab8b2c70875b"
      },
      "outputs": [
        {
          "name": "stdout",
          "output_type": "stream",
          "text": [
            "Epoch 1/30\n"
          ]
        },
        {
          "name": "stderr",
          "output_type": "stream",
          "text": [
            "/usr/local/lib/python3.7/dist-packages/keras/optimizer_v2/rmsprop.py:130: UserWarning: The `lr` argument is deprecated, use `learning_rate` instead.\n",
            "  super(RMSprop, self).__init__(name, **kwargs)\n",
            "/usr/local/lib/python3.7/dist-packages/ipykernel_launcher.py:13: UserWarning: `Model.fit_generator` is deprecated and will be removed in a future version. Please use `Model.fit`, which supports generators.\n",
            "  del sys.path[0]\n"
          ]
        },
        {
          "name": "stdout",
          "output_type": "stream",
          "text": [
            "100/100 [==============================] - 22s 199ms/step - loss: 0.3092 - accuracy: 0.8695 - val_loss: 0.2360 - val_accuracy: 0.9030\n",
            "Epoch 2/30\n",
            "100/100 [==============================] - 20s 197ms/step - loss: 0.2789 - accuracy: 0.8825 - val_loss: 0.2498 - val_accuracy: 0.9070\n",
            "Epoch 3/30\n",
            "100/100 [==============================] - 20s 198ms/step - loss: 0.2485 - accuracy: 0.8935 - val_loss: 0.2003 - val_accuracy: 0.9240\n",
            "Epoch 4/30\n",
            "100/100 [==============================] - 21s 206ms/step - loss: 0.2298 - accuracy: 0.9025 - val_loss: 0.2080 - val_accuracy: 0.9270\n",
            "Epoch 5/30\n",
            "100/100 [==============================] - 20s 204ms/step - loss: 0.2034 - accuracy: 0.9195 - val_loss: 0.1803 - val_accuracy: 0.9270\n",
            "Epoch 6/30\n",
            "100/100 [==============================] - 20s 198ms/step - loss: 0.1927 - accuracy: 0.9295 - val_loss: 0.1878 - val_accuracy: 0.9300\n",
            "Epoch 7/30\n",
            "100/100 [==============================] - 20s 197ms/step - loss: 0.1869 - accuracy: 0.9195 - val_loss: 0.1862 - val_accuracy: 0.9280\n",
            "Epoch 8/30\n",
            "100/100 [==============================] - 20s 197ms/step - loss: 0.1827 - accuracy: 0.9275 - val_loss: 0.2236 - val_accuracy: 0.9250\n",
            "Epoch 9/30\n",
            "100/100 [==============================] - 20s 196ms/step - loss: 0.1703 - accuracy: 0.9320 - val_loss: 0.1727 - val_accuracy: 0.9380\n",
            "Epoch 10/30\n",
            "100/100 [==============================] - 20s 198ms/step - loss: 0.1637 - accuracy: 0.9325 - val_loss: 0.1756 - val_accuracy: 0.9300\n",
            "Epoch 11/30\n",
            "100/100 [==============================] - 20s 197ms/step - loss: 0.1464 - accuracy: 0.9410 - val_loss: 0.1701 - val_accuracy: 0.9380\n",
            "Epoch 12/30\n",
            "100/100 [==============================] - 20s 197ms/step - loss: 0.1401 - accuracy: 0.9420 - val_loss: 0.2158 - val_accuracy: 0.9140\n"
          ]
        }
      ],
      "source": [
        "model.compile(loss='binary_crossentropy',\n",
        "              optimizer=optimizers.RMSprop(lr=1e-5),\n",
        "              metrics=['accuracy'])\n",
        "\n",
        "callbacks_list = [tensorflow.keras.callbacks.EarlyStopping(monitor='val_accuracy', patience=3)]\n",
        "\n",
        "history = model.fit_generator(\n",
        "    generator=train_generator, \n",
        "    steps_per_epoch=100,\n",
        "    epochs=30,\n",
        "    callbacks=callbacks_list,\n",
        "    validation_data=validation_generator,\n",
        "    validation_steps=50)"
      ]
    },
    {
      "cell_type": "code",
      "execution_count": 37,
      "metadata": {
        "colab": {
          "base_uri": "https://localhost:8080/",
          "height": 294
        },
        "id": "kib3w3KOtI34",
        "outputId": "80eeb014-1df4-4a8a-ed4c-b1efcfc1be9d"
      },
      "outputs": [
        {
          "data": {
            "image/png": "[encoded data removed]",
            "text/plain": [
              "<Figure size 432x288 with 1 Axes>"
            ]
          },
          "metadata": {
            "image/png": {
              "height": 277,
              "width": 385
            },
            "needs_background": "light"
          },
          "output_type": "display_data"
        }
      ],
      "source": [
        "show_4_graphs(history)"
      ]
    },
    {
      "cell_type": "markdown",
      "metadata": {
        "id": "QCbU7FQU47OP"
      },
      "source": [
        "## 성능이 92%로 1% 정도 향상되었다.\n",
        "- 주의 할 것은 손실함수는 향상되지 않는 것으로 나타나도, 성능이 향상될 수 있다는 것이다. (분류 성능은 어떤 임계값만 넘으면 활률적으로 개선될 수 있다)\n",
        "\n",
        "## 요약\n",
        "- 과대적합을 줄이기 위해서 데이터 확장을 사용\n",
        "- 전이학습 중 특성 추출방식 소개\n",
        "- 전이학습 중 미세조정 방식 소개"
      ]
    },
    {
      "cell_type": "code",
      "execution_count": null,
      "metadata": {
        "id": "8zFN7erS5SEV"
      },
      "outputs": [],
      "source": []
    }
  ],
  "metadata": {
    "accelerator": "GPU",
    "colab": {
      "collapsed_sections": [],
      "name": "c_16_TransferLearning.ipynb",
      "provenance": []
    },
    "kernelspec": {
      "display_name": "Python 3.10.5 64-bit",
      "language": "python",
      "name": "python3"
    },
    "language_info": {
      "codemirror_mode": {
        "name": "ipython",
        "version": 3
      },
      "file_extension": ".py",
      "mimetype": "text/x-python",
      "name": "python",
      "nbconvert_exporter": "python",
      "pygments_lexer": "ipython3",
      "version": "3.10.5"
    },
    "toc": {
      "base_numbering": 1,
      "nav_menu": {},
      "number_sections": true,
      "sideBar": true,
      "skip_h1_title": false,
      "title_cell": "Table of Contents",
      "title_sidebar": "Contents",
      "toc_cell": false,
      "toc_position": {},
      "toc_section_display": true,
      "toc_window_display": false
    },
    "vscode": {
      "interpreter": {
        "hash": "26de051ba29f2982a8de78e945f0abaf191376122a1563185a90213a26c5da77"
      }
    }
  },
  "nbformat": 4,
  "nbformat_minor": 0
}
